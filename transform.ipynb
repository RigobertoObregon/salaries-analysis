{
 "cells": [
  {
   "cell_type": "code",
   "execution_count": 3,
   "metadata": {},
   "outputs": [
    {
     "name": "stderr",
     "output_type": "stream",
     "text": [
      "/var/folders/y7/ggnbw41n3k1b9q1_qvcm5_9r0000gp/T/ipykernel_88050/89080228.py:17: PerformanceWarning: DataFrame is highly fragmented.  This is usually the result of calling `frame.insert` many times, which has poor performance.  Consider joining all columns at once using pd.concat(axis=1) instead. To get a de-fragmented frame, use `newframe = frame.copy()`\n",
      "  result_df[e] = 0\n",
      "/var/folders/y7/ggnbw41n3k1b9q1_qvcm5_9r0000gp/T/ipykernel_88050/89080228.py:17: PerformanceWarning: DataFrame is highly fragmented.  This is usually the result of calling `frame.insert` many times, which has poor performance.  Consider joining all columns at once using pd.concat(axis=1) instead. To get a de-fragmented frame, use `newframe = frame.copy()`\n",
      "  result_df[e] = 0\n",
      "/var/folders/y7/ggnbw41n3k1b9q1_qvcm5_9r0000gp/T/ipykernel_88050/89080228.py:17: PerformanceWarning: DataFrame is highly fragmented.  This is usually the result of calling `frame.insert` many times, which has poor performance.  Consider joining all columns at once using pd.concat(axis=1) instead. To get a de-fragmented frame, use `newframe = frame.copy()`\n",
      "  result_df[e] = 0\n",
      "/var/folders/y7/ggnbw41n3k1b9q1_qvcm5_9r0000gp/T/ipykernel_88050/89080228.py:17: PerformanceWarning: DataFrame is highly fragmented.  This is usually the result of calling `frame.insert` many times, which has poor performance.  Consider joining all columns at once using pd.concat(axis=1) instead. To get a de-fragmented frame, use `newframe = frame.copy()`\n",
      "  result_df[e] = 0\n",
      "/var/folders/y7/ggnbw41n3k1b9q1_qvcm5_9r0000gp/T/ipykernel_88050/89080228.py:17: PerformanceWarning: DataFrame is highly fragmented.  This is usually the result of calling `frame.insert` many times, which has poor performance.  Consider joining all columns at once using pd.concat(axis=1) instead. To get a de-fragmented frame, use `newframe = frame.copy()`\n",
      "  result_df[e] = 0\n",
      "/var/folders/y7/ggnbw41n3k1b9q1_qvcm5_9r0000gp/T/ipykernel_88050/89080228.py:17: PerformanceWarning: DataFrame is highly fragmented.  This is usually the result of calling `frame.insert` many times, which has poor performance.  Consider joining all columns at once using pd.concat(axis=1) instead. To get a de-fragmented frame, use `newframe = frame.copy()`\n",
      "  result_df[e] = 0\n",
      "/var/folders/y7/ggnbw41n3k1b9q1_qvcm5_9r0000gp/T/ipykernel_88050/89080228.py:17: PerformanceWarning: DataFrame is highly fragmented.  This is usually the result of calling `frame.insert` many times, which has poor performance.  Consider joining all columns at once using pd.concat(axis=1) instead. To get a de-fragmented frame, use `newframe = frame.copy()`\n",
      "  result_df[e] = 0\n",
      "/var/folders/y7/ggnbw41n3k1b9q1_qvcm5_9r0000gp/T/ipykernel_88050/89080228.py:17: PerformanceWarning: DataFrame is highly fragmented.  This is usually the result of calling `frame.insert` many times, which has poor performance.  Consider joining all columns at once using pd.concat(axis=1) instead. To get a de-fragmented frame, use `newframe = frame.copy()`\n",
      "  result_df[e] = 0\n",
      "/var/folders/y7/ggnbw41n3k1b9q1_qvcm5_9r0000gp/T/ipykernel_88050/89080228.py:17: PerformanceWarning: DataFrame is highly fragmented.  This is usually the result of calling `frame.insert` many times, which has poor performance.  Consider joining all columns at once using pd.concat(axis=1) instead. To get a de-fragmented frame, use `newframe = frame.copy()`\n",
      "  result_df[e] = 0\n",
      "/var/folders/y7/ggnbw41n3k1b9q1_qvcm5_9r0000gp/T/ipykernel_88050/89080228.py:17: PerformanceWarning: DataFrame is highly fragmented.  This is usually the result of calling `frame.insert` many times, which has poor performance.  Consider joining all columns at once using pd.concat(axis=1) instead. To get a de-fragmented frame, use `newframe = frame.copy()`\n",
      "  result_df[e] = 0\n",
      "/var/folders/y7/ggnbw41n3k1b9q1_qvcm5_9r0000gp/T/ipykernel_88050/89080228.py:17: PerformanceWarning: DataFrame is highly fragmented.  This is usually the result of calling `frame.insert` many times, which has poor performance.  Consider joining all columns at once using pd.concat(axis=1) instead. To get a de-fragmented frame, use `newframe = frame.copy()`\n",
      "  result_df[e] = 0\n",
      "/var/folders/y7/ggnbw41n3k1b9q1_qvcm5_9r0000gp/T/ipykernel_88050/89080228.py:17: PerformanceWarning: DataFrame is highly fragmented.  This is usually the result of calling `frame.insert` many times, which has poor performance.  Consider joining all columns at once using pd.concat(axis=1) instead. To get a de-fragmented frame, use `newframe = frame.copy()`\n",
      "  result_df[e] = 0\n",
      "/var/folders/y7/ggnbw41n3k1b9q1_qvcm5_9r0000gp/T/ipykernel_88050/89080228.py:17: PerformanceWarning: DataFrame is highly fragmented.  This is usually the result of calling `frame.insert` many times, which has poor performance.  Consider joining all columns at once using pd.concat(axis=1) instead. To get a de-fragmented frame, use `newframe = frame.copy()`\n",
      "  result_df[e] = 0\n",
      "/var/folders/y7/ggnbw41n3k1b9q1_qvcm5_9r0000gp/T/ipykernel_88050/89080228.py:17: PerformanceWarning: DataFrame is highly fragmented.  This is usually the result of calling `frame.insert` many times, which has poor performance.  Consider joining all columns at once using pd.concat(axis=1) instead. To get a de-fragmented frame, use `newframe = frame.copy()`\n",
      "  result_df[e] = 0\n",
      "/var/folders/y7/ggnbw41n3k1b9q1_qvcm5_9r0000gp/T/ipykernel_88050/89080228.py:17: PerformanceWarning: DataFrame is highly fragmented.  This is usually the result of calling `frame.insert` many times, which has poor performance.  Consider joining all columns at once using pd.concat(axis=1) instead. To get a de-fragmented frame, use `newframe = frame.copy()`\n",
      "  result_df[e] = 0\n",
      "/var/folders/y7/ggnbw41n3k1b9q1_qvcm5_9r0000gp/T/ipykernel_88050/89080228.py:17: PerformanceWarning: DataFrame is highly fragmented.  This is usually the result of calling `frame.insert` many times, which has poor performance.  Consider joining all columns at once using pd.concat(axis=1) instead. To get a de-fragmented frame, use `newframe = frame.copy()`\n",
      "  result_df[e] = 0\n",
      "/var/folders/y7/ggnbw41n3k1b9q1_qvcm5_9r0000gp/T/ipykernel_88050/89080228.py:17: PerformanceWarning: DataFrame is highly fragmented.  This is usually the result of calling `frame.insert` many times, which has poor performance.  Consider joining all columns at once using pd.concat(axis=1) instead. To get a de-fragmented frame, use `newframe = frame.copy()`\n",
      "  result_df[e] = 0\n",
      "/var/folders/y7/ggnbw41n3k1b9q1_qvcm5_9r0000gp/T/ipykernel_88050/89080228.py:17: PerformanceWarning: DataFrame is highly fragmented.  This is usually the result of calling `frame.insert` many times, which has poor performance.  Consider joining all columns at once using pd.concat(axis=1) instead. To get a de-fragmented frame, use `newframe = frame.copy()`\n",
      "  result_df[e] = 0\n",
      "/var/folders/y7/ggnbw41n3k1b9q1_qvcm5_9r0000gp/T/ipykernel_88050/89080228.py:17: PerformanceWarning: DataFrame is highly fragmented.  This is usually the result of calling `frame.insert` many times, which has poor performance.  Consider joining all columns at once using pd.concat(axis=1) instead. To get a de-fragmented frame, use `newframe = frame.copy()`\n",
      "  result_df[e] = 0\n",
      "/var/folders/y7/ggnbw41n3k1b9q1_qvcm5_9r0000gp/T/ipykernel_88050/89080228.py:17: PerformanceWarning: DataFrame is highly fragmented.  This is usually the result of calling `frame.insert` many times, which has poor performance.  Consider joining all columns at once using pd.concat(axis=1) instead. To get a de-fragmented frame, use `newframe = frame.copy()`\n",
      "  result_df[e] = 0\n",
      "/var/folders/y7/ggnbw41n3k1b9q1_qvcm5_9r0000gp/T/ipykernel_88050/89080228.py:28: PerformanceWarning: DataFrame is highly fragmented.  This is usually the result of calling `frame.insert` many times, which has poor performance.  Consider joining all columns at once using pd.concat(axis=1) instead. To get a de-fragmented frame, use `newframe = frame.copy()`\n",
      "  result_df.at[row, e] = 1\n",
      "/var/folders/y7/ggnbw41n3k1b9q1_qvcm5_9r0000gp/T/ipykernel_88050/89080228.py:33: SettingWithCopyWarning: \n",
      "A value is trying to be set on a copy of a slice from a DataFrame\n",
      "\n",
      "See the caveats in the documentation: https://pandas.pydata.org/pandas-docs/stable/user_guide/indexing.html#returning-a-view-versus-a-copy\n",
      "  result_df[\"work_from_home\"][result_df[\"work_from_home\"] != True] = False\n"
     ]
    }
   ],
   "source": [
    "import pandas as pd\n",
    "\n",
    "result_df = pd.read_csv(\"./data/jobs_info.csv\")\n",
    "\n",
    "\n",
    "#create an empty set to gather all distinct skills from all rows in the dataframe\n",
    "my_set = set()\n",
    "\n",
    "#go through the joined dataframe, getting the skills and filling the set of different skills\n",
    "for row in result_df[\"description_tokens\"]:\n",
    "    for el in row.replace(\"[\", \"\").replace(\"]\", \"\").replace(\"'\", \"\").replace(\" \", \"\").split(\",\"):\n",
    "        if el != '':\n",
    "            my_set.add(el)\n",
    "\n",
    "#add a column to the joined dataframe for eache different skill\n",
    "for e in sorted(my_set):\n",
    "    result_df[e] = 0\n",
    "\n",
    "#update individual skill columns when skill is present in the description_tokens column\n",
    "l = []\n",
    "row = 0\n",
    "\n",
    "#r for each row in the dataframe, only in the description_tokens column\n",
    "for r in result_df[\"description_tokens\"]:\n",
    "    #l to get a list of skills in r variable\n",
    "    l = r.replace(\"[\", \"\").replace(\"]\", \"\").replace(\"'\", \"\").replace(\" \", \"\").split(\",\")\n",
    "    for e in l:\n",
    "        result_df.at[row, e] = 1\n",
    "\n",
    "    row += 1\n",
    "\n",
    "#update work_from_home column to False when value is not True (empty)\n",
    "result_df[\"work_from_home\"][result_df[\"work_from_home\"] != True] = False\n",
    "\n",
    "#save the data to csv\n",
    "result_df.to_csv(\"./data/jobs_info_skills.csv\") \n",
    "\n",
    "#exclude data without a salary_standardized value\n",
    "cleaned_df = result_df.dropna(subset=['salary_standardized'])\n",
    "\n",
    "#save the data to csv\n",
    "cleaned_df.to_csv(\"./data/cleaned_jobs_info_skills.csv\") \n",
    "\n"
   ]
  }
 ],
 "metadata": {
  "kernelspec": {
   "display_name": "Python 3.10.7 64-bit",
   "language": "python",
   "name": "python3"
  },
  "language_info": {
   "codemirror_mode": {
    "name": "ipython",
    "version": 3
   },
   "file_extension": ".py",
   "mimetype": "text/x-python",
   "name": "python",
   "nbconvert_exporter": "python",
   "pygments_lexer": "ipython3",
   "version": "3.10.7"
  },
  "orig_nbformat": 4,
  "vscode": {
   "interpreter": {
    "hash": "aee8b7b246df8f9039afb4144a1f6fd8d2ca17a180786b69acc140d282b71a49"
   }
  }
 },
 "nbformat": 4,
 "nbformat_minor": 2
}
